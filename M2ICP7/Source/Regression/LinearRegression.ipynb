{
 "cells": [
  {
   "cell_type": "code",
   "execution_count": 43,
   "metadata": {},
   "outputs": [],
   "source": [
    "#To import all required modules\n",
    "from pyspark.sql import SparkSession\n",
    "from pyspark.ml.feature import VectorAssembler\n",
    "import os\n",
    "import pandas as pd\n",
    "from pyspark.ml.feature import StringIndexer\n",
    "from pyspark.sql.types import *\n",
    "from pyspark.ml.regression import LinearRegression\n",
    "\n"
   ]
  },
  {
   "cell_type": "code",
   "execution_count": 4,
   "metadata": {},
   "outputs": [],
   "source": [
    "spark = SparkSession.builder.appName(\"LinearRegression\").getOrCreate()"
   ]
  },
  {
   "cell_type": "code",
   "execution_count": 35,
   "metadata": {},
   "outputs": [
    {
     "output_type": "stream",
     "name": "stdout",
     "text": "The type of import_dataFrame is <class 'pyspark.sql.dataframe.DataFrame'>\n"
    },
    {
     "output_type": "execute_result",
     "data": {
      "text/plain": "                             0            1            2\nsymboling                    3            3            1\nnormalized_losses            ?            ?            ?\nmake               alfa-romero  alfa-romero  alfa-romero\nfuel_type                  gas          gas          gas\naspiration                 std          std          std\nnum_of_doors               two          two          two\nbody_style         convertible  convertible    hatchback\ndrive_wheels               rwd          rwd          rwd\nengine_location          front        front        front\nwheel_base                88.6         88.6         94.5\nlength                   168.8        168.8        171.2\nwidth                     64.1         64.1         65.5\nheight                    48.8         48.8         52.4\ncurb_weight               2548         2548         2823\nengine_type               dohc         dohc         ohcv\nnum_of_cylinders          four         four          six\nengine_size                130          130          152\nfuel_system               mpfi         mpfi         mpfi\nbore                      3.47         3.47         2.68\nstroke                    2.68         2.68         3.47\ncompression_ratio            9            9            9\nhorsepower                 111          111          154\npeak_rpm                  5000         5000         5000\ncity_mpg                    21           21           19\nhighway_mpg                 27           27           26\nprice                    13495        16500        16500",
      "text/html": "<div>\n<style scoped>\n    .dataframe tbody tr th:only-of-type {\n        vertical-align: middle;\n    }\n\n    .dataframe tbody tr th {\n        vertical-align: top;\n    }\n\n    .dataframe thead th {\n        text-align: right;\n    }\n</style>\n<table border=\"1\" class=\"dataframe\">\n  <thead>\n    <tr style=\"text-align: right;\">\n      <th></th>\n      <th>0</th>\n      <th>1</th>\n      <th>2</th>\n    </tr>\n  </thead>\n  <tbody>\n    <tr>\n      <th>symboling</th>\n      <td>3</td>\n      <td>3</td>\n      <td>1</td>\n    </tr>\n    <tr>\n      <th>normalized_losses</th>\n      <td>?</td>\n      <td>?</td>\n      <td>?</td>\n    </tr>\n    <tr>\n      <th>make</th>\n      <td>alfa-romero</td>\n      <td>alfa-romero</td>\n      <td>alfa-romero</td>\n    </tr>\n    <tr>\n      <th>fuel_type</th>\n      <td>gas</td>\n      <td>gas</td>\n      <td>gas</td>\n    </tr>\n    <tr>\n      <th>aspiration</th>\n      <td>std</td>\n      <td>std</td>\n      <td>std</td>\n    </tr>\n    <tr>\n      <th>num_of_doors</th>\n      <td>two</td>\n      <td>two</td>\n      <td>two</td>\n    </tr>\n    <tr>\n      <th>body_style</th>\n      <td>convertible</td>\n      <td>convertible</td>\n      <td>hatchback</td>\n    </tr>\n    <tr>\n      <th>drive_wheels</th>\n      <td>rwd</td>\n      <td>rwd</td>\n      <td>rwd</td>\n    </tr>\n    <tr>\n      <th>engine_location</th>\n      <td>front</td>\n      <td>front</td>\n      <td>front</td>\n    </tr>\n    <tr>\n      <th>wheel_base</th>\n      <td>88.6</td>\n      <td>88.6</td>\n      <td>94.5</td>\n    </tr>\n    <tr>\n      <th>length</th>\n      <td>168.8</td>\n      <td>168.8</td>\n      <td>171.2</td>\n    </tr>\n    <tr>\n      <th>width</th>\n      <td>64.1</td>\n      <td>64.1</td>\n      <td>65.5</td>\n    </tr>\n    <tr>\n      <th>height</th>\n      <td>48.8</td>\n      <td>48.8</td>\n      <td>52.4</td>\n    </tr>\n    <tr>\n      <th>curb_weight</th>\n      <td>2548</td>\n      <td>2548</td>\n      <td>2823</td>\n    </tr>\n    <tr>\n      <th>engine_type</th>\n      <td>dohc</td>\n      <td>dohc</td>\n      <td>ohcv</td>\n    </tr>\n    <tr>\n      <th>num_of_cylinders</th>\n      <td>four</td>\n      <td>four</td>\n      <td>six</td>\n    </tr>\n    <tr>\n      <th>engine_size</th>\n      <td>130</td>\n      <td>130</td>\n      <td>152</td>\n    </tr>\n    <tr>\n      <th>fuel_system</th>\n      <td>mpfi</td>\n      <td>mpfi</td>\n      <td>mpfi</td>\n    </tr>\n    <tr>\n      <th>bore</th>\n      <td>3.47</td>\n      <td>3.47</td>\n      <td>2.68</td>\n    </tr>\n    <tr>\n      <th>stroke</th>\n      <td>2.68</td>\n      <td>2.68</td>\n      <td>3.47</td>\n    </tr>\n    <tr>\n      <th>compression_ratio</th>\n      <td>9</td>\n      <td>9</td>\n      <td>9</td>\n    </tr>\n    <tr>\n      <th>horsepower</th>\n      <td>111</td>\n      <td>111</td>\n      <td>154</td>\n    </tr>\n    <tr>\n      <th>peak_rpm</th>\n      <td>5000</td>\n      <td>5000</td>\n      <td>5000</td>\n    </tr>\n    <tr>\n      <th>city_mpg</th>\n      <td>21</td>\n      <td>21</td>\n      <td>19</td>\n    </tr>\n    <tr>\n      <th>highway_mpg</th>\n      <td>27</td>\n      <td>27</td>\n      <td>26</td>\n    </tr>\n    <tr>\n      <th>price</th>\n      <td>13495</td>\n      <td>16500</td>\n      <td>16500</td>\n    </tr>\n  </tbody>\n</table>\n</div>"
     },
     "metadata": {},
     "execution_count": 35
    }
   ],
   "source": [
    "# Loading the dataset\n",
    "import_dataFrame = spark.read.load(\"dataset/import.csv\", format=\"csv\", header=True, inferSchema=True, delimiter=\",\")\n",
    "# Check the type of import_dataFrame\n",
    "print(\"The type of import_dataFrame is\", type(import_dataFrame))\n",
    "#To show the first 3 rows\n",
    "pd.DataFrame(import_dataFrame.take(3), columns=import_dataFrame.columns).transpose()"
   ]
  },
  {
   "cell_type": "code",
   "execution_count": 36,
   "metadata": {},
   "outputs": [
    {
     "output_type": "stream",
     "name": "stdout",
     "text": "+----------+------+-----+------+-----------+-----------+----+------+-----------------+----------+--------+--------+-----------+-----+\n|wheel_base|length|width|height|curb_weight|engine_size|bore|stroke|compression_ratio|horsepower|peak_rpm|city_mpg|highway_mpg|price|\n+----------+------+-----+------+-----------+-----------+----+------+-----------------+----------+--------+--------+-----------+-----+\n|      88.6| 168.8| 64.1|  48.8|       2548|        130|3.47|  2.68|              9.0|       111|    5000|      21|         27|13495|\n|      88.6| 168.8| 64.1|  48.8|       2548|        130|3.47|  2.68|              9.0|       111|    5000|      21|         27|16500|\n|      94.5| 171.2| 65.5|  52.4|       2823|        152|2.68|  3.47|              9.0|       154|    5000|      19|         26|16500|\n|      99.8| 176.6| 66.2|  54.3|       2337|        109|3.19|  3.40|             10.0|       102|    5500|      24|         30|13950|\n|      99.4| 176.6| 66.4|  54.3|       2824|        136|3.19|  3.40|              8.0|       115|    5500|      18|         22|17450|\n+----------+------+-----+------+-----------+-----------+----+------+-----------------+----------+--------+--------+-----------+-----+\nonly showing top 5 rows\n\n"
    }
   ],
   "source": [
    "#To get numeric features only\n",
    "import_numeric_dataFrame = import_dataFrame.select(\"wheel_base\",\"length\", \"width\", \"height\", \"curb_weight\", \"engine_size\", \"bore\", \"stroke\", \"compression_ratio\", \"horsepower\", \"peak_rpm\", \"city_mpg\", \"highway_mpg\", \"price\")\n",
    "import_numeric_dataFrame.show(5)\n"
   ]
  },
  {
   "cell_type": "code",
   "execution_count": 37,
   "metadata": {},
   "outputs": [
    {
     "output_type": "stream",
     "name": "stdout",
     "text": "wheel_base\nlength\nwidth\nheight\ncurb_weight\nengine_size\nbore\nstroke\ncompression_ratio\nhorsepower\npeak_rpm\ncity_mpg\nhighway_mpg\nprice\n"
    }
   ],
   "source": [
    "#To Change numeric features data type into integer\n",
    "for clmn in import_numeric_dataFrame.columns:\n",
    "    print(clmn)\n",
    "    import_numeric_dataFrame = import_numeric_dataFrame.withColumn(clmn, import_numeric_dataFrame[clmn].cast(IntegerType()))\n",
    "    import_numeric_dataFrame = import_numeric_dataFrame.filter(import_numeric_dataFrame[clmn].isNotNull())\n",
    "   "
   ]
  },
  {
   "cell_type": "code",
   "execution_count": 38,
   "metadata": {},
   "outputs": [
    {
     "output_type": "stream",
     "name": "stdout",
     "text": "price                1.000000\nengine_size          0.888942\ncurb_weight          0.835729\nhorsepower           0.811027\nwidth                0.748977\nlength               0.695721\nwheel_base           0.588325\nbore                 0.271272\nheight               0.128472\ncompression_ratio    0.073514\nstroke              -0.027514\npeak_rpm            -0.104333\ncity_mpg            -0.702685\nhighway_mpg         -0.715590\nName: price, dtype: float64 \n\n"
    }
   ],
   "source": [
    "corrdf = import_numeric_dataFrame.toPandas()\n",
    "\n",
    "corr = corrdf.corr()\n",
    "print(corr['price'].sort_values(ascending=False),\"\\n\")"
   ]
  },
  {
   "cell_type": "code",
   "execution_count": 39,
   "metadata": {},
   "outputs": [
    {
     "output_type": "stream",
     "name": "stdout",
     "text": "+-----------+-----------+----------+-----+------+----------+-----+\n|engine_size|curb_weight|horsepower|width|length|wheel_base|label|\n+-----------+-----------+----------+-----+------+----------+-----+\n|        130|       2548|       111|   64|   168|        88|13495|\n|        130|       2548|       111|   64|   168|        88|16500|\n|        152|       2823|       154|   65|   171|        94|16500|\n|        109|       2337|       102|   66|   176|        99|13950|\n|        136|       2824|       115|   66|   176|        99|17450|\n+-----------+-----------+----------+-----+------+----------+-----+\nonly showing top 5 rows\n\n"
    }
   ],
   "source": [
    "#To chnage price into label\n",
    "import_numeric_dataFrame2 = import_numeric_dataFrame.select(\"engine_size\",\"curb_weight\",\"horsepower\", \"width\", \"length\", \"wheel_base\", \"price\")\n",
    "import_numeric_dataFrame2 = import_numeric_dataFrame2.withColumnRenamed(\"price\", \"label\")\n",
    "import_numeric_dataFrame2.show(5)"
   ]
  },
  {
   "cell_type": "code",
   "execution_count": 40,
   "metadata": {},
   "outputs": [
    {
     "output_type": "stream",
     "name": "stdout",
     "text": "+-----------+-----------+----------+-----+------+----------+-----+--------------------+\n|engine_size|curb_weight|horsepower|width|length|wheel_base|label|            features|\n+-----------+-----------+----------+-----+------+----------+-----+--------------------+\n|        130|       2548|       111|   64|   168|        88|13495|[130.0,2548.0,111...|\n|        130|       2548|       111|   64|   168|        88|16500|[130.0,2548.0,111...|\n|        152|       2823|       154|   65|   171|        94|16500|[152.0,2823.0,154...|\n|        109|       2337|       102|   66|   176|        99|13950|[109.0,2337.0,102...|\n|        136|       2824|       115|   66|   176|        99|17450|[136.0,2824.0,115...|\n|        136|       2507|       110|   66|   177|        99|15250|[136.0,2507.0,110...|\n|        136|       2844|       110|   71|   192|       105|17710|[136.0,2844.0,110...|\n|        136|       2954|       110|   71|   192|       105|18920|[136.0,2954.0,110...|\n|        131|       3086|       140|   71|   192|       105|23875|[131.0,3086.0,140...|\n|        108|       2395|       101|   64|   176|       101|16430|[108.0,2395.0,101...|\n+-----------+-----------+----------+-----+------+----------+-----+--------------------+\nonly showing top 10 rows\n\n"
    }
   ],
   "source": [
    "\n",
    "#T generate the vector assembler for numeric features, I choose the first five columns\n",
    "import_dataFrame_vector = VectorAssembler(inputCols=import_numeric_dataFrame2.columns[:6], outputCol=\"features\")\n",
    "import_numeric_dataFrame2 = import_dataFrame_vector.transform(import_numeric_dataFrame2)\n",
    "import_numeric_dataFrame2.show(10)"
   ]
  },
  {
   "cell_type": "code",
   "execution_count": 41,
   "metadata": {},
   "outputs": [
    {
     "output_type": "stream",
     "name": "stdout",
     "text": "+-----+--------------------+\n|label|            features|\n+-----+--------------------+\n|13495|[130.0,2548.0,111...|\n|16500|[130.0,2548.0,111...|\n|16500|[152.0,2823.0,154...|\n|13950|[109.0,2337.0,102...|\n|17450|[136.0,2824.0,115...|\n|15250|[136.0,2507.0,110...|\n|17710|[136.0,2844.0,110...|\n|18920|[136.0,2954.0,110...|\n|23875|[131.0,3086.0,140...|\n|16430|[108.0,2395.0,101...|\n|16925|[108.0,2395.0,101...|\n|20970|[164.0,2710.0,121...|\n|21105|[164.0,2765.0,121...|\n|24565|[164.0,3055.0,121...|\n|30760|[209.0,3230.0,182...|\n|41315|[209.0,3380.0,182...|\n|36880|[209.0,3505.0,182...|\n| 5151|[61.0,1488.0,48.0...|\n| 6295|[90.0,1874.0,70.0...|\n| 6575|[90.0,1909.0,70.0...|\n+-----+--------------------+\nonly showing top 20 rows\n\n"
    }
   ],
   "source": [
    "# To get the label and features vector\n",
    "model_data = import_numeric_dataFrame2.select(\"label\", \"features\")\n",
    "\n",
    "model_data.show()"
   ]
  },
  {
   "cell_type": "code",
   "execution_count": 42,
   "metadata": {},
   "outputs": [
    {
     "output_type": "stream",
     "name": "stdout",
     "text": "Coefficients: [98.06590466999978,1.9003922906121002,45.396046650274066,555.6443493129233,-40.452859787319746,72.76392861060901]\nIntercept: -45321.923161503844\nnumIterations: 16\nobjectiveHistory: [0.5, 0.41177694363371325, 0.18798395829106637, 0.10436499176095039, 0.09970650891295046, 0.08938810308287624, 0.08847023781306598, 0.08885369728352192, 0.0867261472448236, 0.08671520603036441, 0.08670894720463505, 0.08670698197684588, 0.08669140027135974, 0.08668603506121145, 0.086683410405547, 0.08668228478313694]\n+-------------------+\n|          residuals|\n+-------------------+\n| 1018.8111902528544|\n| 4023.8111902528544|\n|-1479.1459399818777|\n| 2754.6733464504796|\n| 2091.2542683788342|\n|  761.1117175415638|\n| -27.33290581318579|\n|  973.6239422194849|\n|  4806.220283700452|\n|  6233.673386319882|\n|  6728.673386319882|\n|  3775.438220251599|\n| 3805.9166442679343|\n|  5983.873501378519|\n|  4664.180294704696|\n|  14540.28854094923|\n|  7853.270395558982|\n|  5446.075562492995|\n|  476.7232940007525|\n|   811.568143191289|\n+-------------------+\nonly showing top 20 rows\n\nRMSE: 3345.144422\nr2: 0.826704\n"
    }
   ],
   "source": [
    "lr_model = LinearRegression(maxIter=15, regParam=0.3, elasticNetParam=0.8)\n",
    "\n",
    "# Fit the model\n",
    "lrModel = lr_model.fit(model_data)\n",
    "\n",
    "# Print the coefficients and intercept for linear regression\n",
    "print(\"Coefficients: %s\" % str(lrModel.coefficients))\n",
    "print(\"Intercept: %s\" % str(lrModel.intercept))\n",
    "\n",
    "# Summarize the model over the training set and print out some metrics\n",
    "trainingSummary = lrModel.summary\n",
    "print(\"numIterations: %d\" % trainingSummary.totalIterations)\n",
    "print(\"objectiveHistory: %s\" % str(trainingSummary.objectiveHistory))\n",
    "trainingSummary.residuals.show()\n",
    "print(\"RMSE: %f\" % trainingSummary.rootMeanSquaredError)\n",
    "print(\"r2: %f\" % trainingSummary.r2)"
   ]
  },
  {
   "cell_type": "code",
   "execution_count": null,
   "metadata": {},
   "outputs": [],
   "source": []
  }
 ],
 "metadata": {
  "language_info": {
   "codemirror_mode": {
    "name": "ipython",
    "version": 3
   },
   "file_extension": ".py",
   "mimetype": "text/x-python",
   "name": "python",
   "nbconvert_exporter": "python",
   "pygments_lexer": "ipython3",
   "version": "3.6.10-final"
  },
  "orig_nbformat": 2,
  "kernelspec": {
   "name": "python361064bitpycondacondabe5a39644e52403d882c62f3ed73be6a",
   "display_name": "Python 3.6.10 64-bit ('pyconda': conda)"
  }
 },
 "nbformat": 4,
 "nbformat_minor": 2
}