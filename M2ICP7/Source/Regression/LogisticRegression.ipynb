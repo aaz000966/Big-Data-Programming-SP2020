{
 "cells": [
  {
   "cell_type": "code",
   "execution_count": 42,
   "metadata": {},
   "outputs": [],
   "source": [
    "#To import all required modules\n",
    "from pyspark.sql import SparkSession\n",
    "from pyspark.ml.feature import VectorAssembler\n",
    "import os\n",
    "import pandas as pd\n",
    "from pyspark.ml.feature import StringIndexer\n",
    "from pyspark.sql.types import *\n",
    "from pyspark.ml.classification import LogisticRegression\n",
    "from pyspark.ml.feature import StringIndexer\n",
    "\n",
    "\n"
   ]
  },
  {
   "cell_type": "code",
   "execution_count": 3,
   "metadata": {},
   "outputs": [],
   "source": [
    "spark = SparkSession.builder.appName(\"LogisticRegression\").getOrCreate()"
   ]
  },
  {
   "cell_type": "code",
   "execution_count": 4,
   "metadata": {},
   "outputs": [
    {
     "output_type": "stream",
     "name": "stdout",
     "text": "The type of import_dataFrame is <class 'pyspark.sql.dataframe.DataFrame'>\n"
    },
    {
     "output_type": "execute_result",
     "data": {
      "text/plain": "                             0            1            2\nsymboling                    3            3            1\nnormalized_losses            ?            ?            ?\nmake               alfa-romero  alfa-romero  alfa-romero\nfuel_type                  gas          gas          gas\naspiration                 std          std          std\nnum_of_doors               two          two          two\nbody_style         convertible  convertible    hatchback\ndrive_wheels               rwd          rwd          rwd\nengine_location          front        front        front\nwheel_base                88.6         88.6         94.5\nlength                   168.8        168.8        171.2\nwidth                     64.1         64.1         65.5\nheight                    48.8         48.8         52.4\ncurb_weight               2548         2548         2823\nengine_type               dohc         dohc         ohcv\nnum_of_cylinders          four         four          six\nengine_size                130          130          152\nfuel_system               mpfi         mpfi         mpfi\nbore                      3.47         3.47         2.68\nstroke                    2.68         2.68         3.47\ncompression_ratio            9            9            9\nhorsepower                 111          111          154\npeak_rpm                  5000         5000         5000\ncity_mpg                    21           21           19\nhighway_mpg                 27           27           26\nprice                    13495        16500        16500",
      "text/html": "<div>\n<style scoped>\n    .dataframe tbody tr th:only-of-type {\n        vertical-align: middle;\n    }\n\n    .dataframe tbody tr th {\n        vertical-align: top;\n    }\n\n    .dataframe thead th {\n        text-align: right;\n    }\n</style>\n<table border=\"1\" class=\"dataframe\">\n  <thead>\n    <tr style=\"text-align: right;\">\n      <th></th>\n      <th>0</th>\n      <th>1</th>\n      <th>2</th>\n    </tr>\n  </thead>\n  <tbody>\n    <tr>\n      <th>symboling</th>\n      <td>3</td>\n      <td>3</td>\n      <td>1</td>\n    </tr>\n    <tr>\n      <th>normalized_losses</th>\n      <td>?</td>\n      <td>?</td>\n      <td>?</td>\n    </tr>\n    <tr>\n      <th>make</th>\n      <td>alfa-romero</td>\n      <td>alfa-romero</td>\n      <td>alfa-romero</td>\n    </tr>\n    <tr>\n      <th>fuel_type</th>\n      <td>gas</td>\n      <td>gas</td>\n      <td>gas</td>\n    </tr>\n    <tr>\n      <th>aspiration</th>\n      <td>std</td>\n      <td>std</td>\n      <td>std</td>\n    </tr>\n    <tr>\n      <th>num_of_doors</th>\n      <td>two</td>\n      <td>two</td>\n      <td>two</td>\n    </tr>\n    <tr>\n      <th>body_style</th>\n      <td>convertible</td>\n      <td>convertible</td>\n      <td>hatchback</td>\n    </tr>\n    <tr>\n      <th>drive_wheels</th>\n      <td>rwd</td>\n      <td>rwd</td>\n      <td>rwd</td>\n    </tr>\n    <tr>\n      <th>engine_location</th>\n      <td>front</td>\n      <td>front</td>\n      <td>front</td>\n    </tr>\n    <tr>\n      <th>wheel_base</th>\n      <td>88.6</td>\n      <td>88.6</td>\n      <td>94.5</td>\n    </tr>\n    <tr>\n      <th>length</th>\n      <td>168.8</td>\n      <td>168.8</td>\n      <td>171.2</td>\n    </tr>\n    <tr>\n      <th>width</th>\n      <td>64.1</td>\n      <td>64.1</td>\n      <td>65.5</td>\n    </tr>\n    <tr>\n      <th>height</th>\n      <td>48.8</td>\n      <td>48.8</td>\n      <td>52.4</td>\n    </tr>\n    <tr>\n      <th>curb_weight</th>\n      <td>2548</td>\n      <td>2548</td>\n      <td>2823</td>\n    </tr>\n    <tr>\n      <th>engine_type</th>\n      <td>dohc</td>\n      <td>dohc</td>\n      <td>ohcv</td>\n    </tr>\n    <tr>\n      <th>num_of_cylinders</th>\n      <td>four</td>\n      <td>four</td>\n      <td>six</td>\n    </tr>\n    <tr>\n      <th>engine_size</th>\n      <td>130</td>\n      <td>130</td>\n      <td>152</td>\n    </tr>\n    <tr>\n      <th>fuel_system</th>\n      <td>mpfi</td>\n      <td>mpfi</td>\n      <td>mpfi</td>\n    </tr>\n    <tr>\n      <th>bore</th>\n      <td>3.47</td>\n      <td>3.47</td>\n      <td>2.68</td>\n    </tr>\n    <tr>\n      <th>stroke</th>\n      <td>2.68</td>\n      <td>2.68</td>\n      <td>3.47</td>\n    </tr>\n    <tr>\n      <th>compression_ratio</th>\n      <td>9</td>\n      <td>9</td>\n      <td>9</td>\n    </tr>\n    <tr>\n      <th>horsepower</th>\n      <td>111</td>\n      <td>111</td>\n      <td>154</td>\n    </tr>\n    <tr>\n      <th>peak_rpm</th>\n      <td>5000</td>\n      <td>5000</td>\n      <td>5000</td>\n    </tr>\n    <tr>\n      <th>city_mpg</th>\n      <td>21</td>\n      <td>21</td>\n      <td>19</td>\n    </tr>\n    <tr>\n      <th>highway_mpg</th>\n      <td>27</td>\n      <td>27</td>\n      <td>26</td>\n    </tr>\n    <tr>\n      <th>price</th>\n      <td>13495</td>\n      <td>16500</td>\n      <td>16500</td>\n    </tr>\n  </tbody>\n</table>\n</div>"
     },
     "metadata": {},
     "execution_count": 4
    }
   ],
   "source": [
    "# Loading the dataset\n",
    "import_dataFrame = spark.read.load(\"dataset/import.csv\", format=\"csv\", header=True, inferSchema=True, delimiter=\",\")\n",
    "# Check the type of import_dataFrame\n",
    "print(\"The type of import_dataFrame is\", type(import_dataFrame))\n",
    "#To show the first 3 rows\n",
    "pd.DataFrame(import_dataFrame.take(3), columns=import_dataFrame.columns).transpose()"
   ]
  },
  {
   "cell_type": "code",
   "execution_count": 64,
   "metadata": {},
   "outputs": [
    {
     "output_type": "stream",
     "name": "stdout",
     "text": "+----------+------+-----+------+-----------+-----------+----+------+-----------------+----------+--------+--------+-----------+----------------+\n|wheel_base|length|width|height|curb_weight|engine_size|bore|stroke|compression_ratio|horsepower|peak_rpm|city_mpg|highway_mpg|num_of_cylinders|\n+----------+------+-----+------+-----------+-----------+----+------+-----------------+----------+--------+--------+-----------+----------------+\n|      88.6| 168.8| 64.1|  48.8|       2548|        130|3.47|  2.68|              9.0|       111|    5000|      21|         27|            four|\n|      88.6| 168.8| 64.1|  48.8|       2548|        130|3.47|  2.68|              9.0|       111|    5000|      21|         27|            four|\n|      94.5| 171.2| 65.5|  52.4|       2823|        152|2.68|  3.47|              9.0|       154|    5000|      19|         26|             six|\n|      99.8| 176.6| 66.2|  54.3|       2337|        109|3.19|  3.40|             10.0|       102|    5500|      24|         30|            four|\n|      99.4| 176.6| 66.4|  54.3|       2824|        136|3.19|  3.40|              8.0|       115|    5500|      18|         22|            five|\n+----------+------+-----+------+-----------+-----------+----+------+-----------------+----------+--------+--------+-----------+----------------+\nonly showing top 5 rows\n\n"
    }
   ],
   "source": [
    "#To get numeric features only\n",
    "import_numeric_dataFrame = import_dataFrame.select(\"wheel_base\",\"length\", \"width\", \"height\", \"curb_weight\", \"engine_size\", \"bore\", \"stroke\", \"compression_ratio\", \"horsepower\", \"peak_rpm\", \"city_mpg\", \"highway_mpg\", \"num_of_cylinders\")\n",
    "import_numeric_dataFrame.show(5)\n"
   ]
  },
  {
   "cell_type": "code",
   "execution_count": 65,
   "metadata": {},
   "outputs": [
    {
     "output_type": "stream",
     "name": "stdout",
     "text": "wheel_base\nlength\nwidth\nheight\ncurb_weight\nengine_size\nbore\nstroke\ncompression_ratio\nhorsepower\npeak_rpm\ncity_mpg\nhighway_mpg\n"
    }
   ],
   "source": [
    "#To Change numeric features data type into integer\n",
    "for clmn in import_numeric_dataFrame.columns[:13]:\n",
    "    print(clmn)\n",
    "    import_numeric_dataFrame = import_numeric_dataFrame.withColumn(clmn, import_numeric_dataFrame[clmn].cast(IntegerType()))\n",
    "    import_numeric_dataFrame = import_numeric_dataFrame.filter(import_numeric_dataFrame[clmn].isNotNull())\n"
   ]
  },
  {
   "cell_type": "code",
   "execution_count": 66,
   "metadata": {},
   "outputs": [
    {
     "output_type": "stream",
     "name": "stdout",
     "text": "+-----------+-----------+-----+------+----------+--------+-----------+----------------+\n|engine_size|curb_weight|width|length|horsepower|city_mpg|highway_mpg|num_of_cylinders|\n+-----------+-----------+-----+------+----------+--------+-----------+----------------+\n|        130|       2548|   64|   168|       111|      21|         27|            four|\n|        130|       2548|   64|   168|       111|      21|         27|            four|\n|        152|       2823|   65|   171|       154|      19|         26|             six|\n|        109|       2337|   66|   176|       102|      24|         30|            four|\n|        136|       2824|   66|   176|       115|      18|         22|            five|\n+-----------+-----------+-----+------+----------+--------+-----------+----------------+\nonly showing top 5 rows\n\n"
    }
   ],
   "source": [
    "#To select columns we  are going to use in our model\n",
    "import_numeric_dataFrame2 = import_numeric_dataFrame.select(\"engine_size\",\"curb_weight\",\"width\",\"length\",\"horsepower\", \"city_mpg\", \"highway_mpg\", \"num_of_cylinders\")\n",
    "\n",
    "import_numeric_dataFrame2.show(5)"
   ]
  },
  {
   "cell_type": "code",
   "execution_count": 68,
   "metadata": {},
   "outputs": [
    {
     "output_type": "stream",
     "name": "stdout",
     "text": "+-----------+-----------+-----+------+----------+--------+-----------+----------------+-----+--------------------+\n|engine_size|curb_weight|width|length|horsepower|city_mpg|highway_mpg|num_of_cylinders|label|            features|\n+-----------+-----------+-----+------+----------+--------+-----------+----------------+-----+--------------------+\n|        130|       2548|   64|   168|       111|      21|         27|            four|  0.0|[130.0,2548.0,64....|\n|        130|       2548|   64|   168|       111|      21|         27|            four|  0.0|[130.0,2548.0,64....|\n|        152|       2823|   65|   171|       154|      19|         26|             six|  1.0|[152.0,2823.0,65....|\n|        109|       2337|   66|   176|       102|      24|         30|            four|  0.0|[109.0,2337.0,66....|\n|        136|       2824|   66|   176|       115|      18|         22|            five|  2.0|[136.0,2824.0,66....|\n|        136|       2507|   66|   177|       110|      19|         25|            five|  2.0|[136.0,2507.0,66....|\n|        136|       2844|   71|   192|       110|      19|         25|            five|  2.0|[136.0,2844.0,71....|\n|        136|       2954|   71|   192|       110|      19|         25|            five|  2.0|[136.0,2954.0,71....|\n|        131|       3086|   71|   192|       140|      17|         20|            five|  2.0|[131.0,3086.0,71....|\n|        131|       3053|   67|   178|       160|      16|         22|            five|  2.0|[131.0,3053.0,67....|\n+-----------+-----------+-----+------+----------+--------+-----------+----------------+-----+--------------------+\nonly showing top 10 rows\n\n"
    }
   ],
   "source": [
    "indexer = StringIndexer(inputCol=\"num_of_cylinders\", outputCol=\"label\") \n",
    "import_numeric_dataFrame3 = indexer.fit(import_numeric_dataFrame2).transform(import_numeric_dataFrame2)\n",
    "#T generate the vector assembler for numeric features, I choose the first five columns\n",
    "import_dataFrame_vector = VectorAssembler(inputCols=import_numeric_dataFrame3.columns[:7], outputCol=\"features\")\n",
    "import_numeric_dataFrame3 = import_dataFrame_vector.transform(import_numeric_dataFrame3)\n",
    "import_numeric_dataFrame3.show(10)"
   ]
  },
  {
   "cell_type": "code",
   "execution_count": 70,
   "metadata": {},
   "outputs": [
    {
     "output_type": "stream",
     "name": "stdout",
     "text": "+-----+--------------------+\n|label|            features|\n+-----+--------------------+\n|  0.0|[130.0,2548.0,64....|\n|  0.0|[130.0,2548.0,64....|\n|  1.0|[152.0,2823.0,65....|\n|  0.0|[109.0,2337.0,66....|\n|  2.0|[136.0,2824.0,66....|\n|  2.0|[136.0,2507.0,66....|\n|  2.0|[136.0,2844.0,71....|\n|  2.0|[136.0,2954.0,71....|\n|  2.0|[131.0,3086.0,71....|\n|  2.0|[131.0,3053.0,67....|\n|  0.0|[108.0,2395.0,64....|\n|  0.0|[108.0,2395.0,64....|\n|  1.0|[164.0,2710.0,64....|\n|  1.0|[164.0,2765.0,64....|\n|  1.0|[164.0,3055.0,66....|\n|  1.0|[209.0,3230.0,66....|\n|  1.0|[209.0,3380.0,67....|\n|  1.0|[209.0,3505.0,70....|\n|  4.0|[61.0,1488.0,60.0...|\n|  0.0|[90.0,1874.0,63.0...|\n+-----+--------------------+\nonly showing top 20 rows\n\n"
    }
   ],
   "source": [
    "# To get the label and features vector\n",
    "model_data = import_numeric_dataFrame3.select(\"label\", \"features\")\n",
    "\n",
    "model_data.show()"
   ]
  },
  {
   "cell_type": "code",
   "execution_count": 71,
   "metadata": {},
   "outputs": [],
   "source": [
    "LogisticRegression_model = LogisticRegression(maxIter=10, regParam=0.3, elasticNetParam=0.8, family=\"multinomial\")\n",
    "\n",
    "# Fit the model\n",
    "LogisticRegression_model = LogisticRegression_model.fit(model_data)"
   ]
  },
  {
   "cell_type": "code",
   "execution_count": 72,
   "metadata": {},
   "outputs": [
    {
     "output_type": "stream",
     "name": "stdout",
     "text": "Accuracy: 0.7889447236180904\nFPR: 0.7889447236180904\nTPR: 0.7889447236180904\nF-measure: 0.6958669753260686\nPrecision: 0.6224337769248252\nRecall: 0.7889447236180904\n"
    }
   ],
   "source": [
    "trainingSummary = LogisticRegression_model.summary\n",
    "# for multiclass, we can inspect metrics on a per-label basis\n",
    "\n",
    "accuracy = trainingSummary.accuracy\n",
    "falsePositiveRate = trainingSummary.weightedFalsePositiveRate\n",
    "truePositiveRate = trainingSummary.weightedTruePositiveRate\n",
    "fMeasure = trainingSummary.weightedFMeasure()\n",
    "precision = trainingSummary.weightedPrecision\n",
    "recall = trainingSummary.weightedRecall\n",
    "print(\"Accuracy: %s\\nFPR: %s\\nTPR: %s\\nF-measure: %s\\nPrecision: %s\\nRecall: %s\"\n",
    "      % (accuracy, falsePositiveRate, truePositiveRate, fMeasure, precision, recall))"
   ]
  },
  {
   "cell_type": "code",
   "execution_count": null,
   "metadata": {},
   "outputs": [],
   "source": []
  }
 ],
 "metadata": {
  "language_info": {
   "codemirror_mode": {
    "name": "ipython",
    "version": 3
   },
   "file_extension": ".py",
   "mimetype": "text/x-python",
   "name": "python",
   "nbconvert_exporter": "python",
   "pygments_lexer": "ipython3",
   "version": "3.6.10-final"
  },
  "orig_nbformat": 2,
  "kernelspec": {
   "name": "python361064bitpycondacondabe5a39644e52403d882c62f3ed73be6a",
   "display_name": "Python 3.6.10 64-bit ('pyconda': conda)"
  }
 },
 "nbformat": 4,
 "nbformat_minor": 2
}