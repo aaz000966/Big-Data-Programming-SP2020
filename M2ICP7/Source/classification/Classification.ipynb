{
 "cells": [
  {
   "cell_type": "code",
   "execution_count": 17,
   "metadata": {},
   "outputs": [],
   "source": [
    "#To import all required modules\n",
    "from pyspark.sql import SparkSession\n",
    "from pyspark.ml.feature import VectorAssembler\n",
    "import os\n",
    "import pandas as pd\n",
    "from pyspark.ml.feature import StringIndexer\n",
    "from pyspark.sql.types import *\n",
    "from pyspark.ml.classification import NaiveBayes\n",
    "from pyspark.ml.evaluation import MulticlassClassificationEvaluator\n",
    "from pyspark.ml.classification import DecisionTreeClassifier\n",
    "from pyspark.ml.classification import RandomForestClassifier\n"
   ]
  },
  {
   "cell_type": "code",
   "execution_count": 2,
   "metadata": {},
   "outputs": [],
   "source": [
    "spark = SparkSession.builder.appName(\"Classifcation\").getOrCreate()"
   ]
  },
  {
   "cell_type": "code",
   "execution_count": 4,
   "metadata": {},
   "outputs": [
    {
     "output_type": "stream",
     "name": "stdout",
     "text": "The type of people_df is <class 'pyspark.sql.dataframe.DataFrame'>\n"
    },
    {
     "output_type": "execute_result",
     "data": {
      "text/plain": "                             0                    1                   2  \\\nage                         39                   50                  38   \nworkclass            State-gov     Self-emp-not-inc             Private   \nfnlwgt                   77516                83311              215646   \neducation            Bachelors            Bachelors             HS-grad   \neducation-num               13                   13                   9   \nmarital-status   Never-married   Married-civ-spouse            Divorced   \noccupation        Adm-clerical      Exec-managerial   Handlers-cleaners   \nrelationship     Not-in-family              Husband       Not-in-family   \nrace                     White                White               White   \nsex                       Male                 Male                Male   \ncapital-gain              2174                    0                   0   \ncapital-loss                 0                    0                   0   \nhours-per-week              40                   13                  40   \nnative-country   United-States        United-States       United-States   \nincome                   <=50K                <=50K               <=50K   \n\n                                  3                    4  \nage                              53                   28  \nworkclass                   Private              Private  \nfnlwgt                       234721               338409  \neducation                      11th            Bachelors  \neducation-num                     7                   13  \nmarital-status   Married-civ-spouse   Married-civ-spouse  \noccupation        Handlers-cleaners       Prof-specialty  \nrelationship                Husband                 Wife  \nrace                          Black                Black  \nsex                            Male               Female  \ncapital-gain                      0                    0  \ncapital-loss                      0                    0  \nhours-per-week                   40                   40  \nnative-country        United-States                 Cuba  \nincome                        <=50K                <=50K  ",
      "text/html": "<div>\n<style scoped>\n    .dataframe tbody tr th:only-of-type {\n        vertical-align: middle;\n    }\n\n    .dataframe tbody tr th {\n        vertical-align: top;\n    }\n\n    .dataframe thead th {\n        text-align: right;\n    }\n</style>\n<table border=\"1\" class=\"dataframe\">\n  <thead>\n    <tr style=\"text-align: right;\">\n      <th></th>\n      <th>0</th>\n      <th>1</th>\n      <th>2</th>\n      <th>3</th>\n      <th>4</th>\n    </tr>\n  </thead>\n  <tbody>\n    <tr>\n      <th>age</th>\n      <td>39</td>\n      <td>50</td>\n      <td>38</td>\n      <td>53</td>\n      <td>28</td>\n    </tr>\n    <tr>\n      <th>workclass</th>\n      <td>State-gov</td>\n      <td>Self-emp-not-inc</td>\n      <td>Private</td>\n      <td>Private</td>\n      <td>Private</td>\n    </tr>\n    <tr>\n      <th>fnlwgt</th>\n      <td>77516</td>\n      <td>83311</td>\n      <td>215646</td>\n      <td>234721</td>\n      <td>338409</td>\n    </tr>\n    <tr>\n      <th>education</th>\n      <td>Bachelors</td>\n      <td>Bachelors</td>\n      <td>HS-grad</td>\n      <td>11th</td>\n      <td>Bachelors</td>\n    </tr>\n    <tr>\n      <th>education-num</th>\n      <td>13</td>\n      <td>13</td>\n      <td>9</td>\n      <td>7</td>\n      <td>13</td>\n    </tr>\n    <tr>\n      <th>marital-status</th>\n      <td>Never-married</td>\n      <td>Married-civ-spouse</td>\n      <td>Divorced</td>\n      <td>Married-civ-spouse</td>\n      <td>Married-civ-spouse</td>\n    </tr>\n    <tr>\n      <th>occupation</th>\n      <td>Adm-clerical</td>\n      <td>Exec-managerial</td>\n      <td>Handlers-cleaners</td>\n      <td>Handlers-cleaners</td>\n      <td>Prof-specialty</td>\n    </tr>\n    <tr>\n      <th>relationship</th>\n      <td>Not-in-family</td>\n      <td>Husband</td>\n      <td>Not-in-family</td>\n      <td>Husband</td>\n      <td>Wife</td>\n    </tr>\n    <tr>\n      <th>race</th>\n      <td>White</td>\n      <td>White</td>\n      <td>White</td>\n      <td>Black</td>\n      <td>Black</td>\n    </tr>\n    <tr>\n      <th>sex</th>\n      <td>Male</td>\n      <td>Male</td>\n      <td>Male</td>\n      <td>Male</td>\n      <td>Female</td>\n    </tr>\n    <tr>\n      <th>capital-gain</th>\n      <td>2174</td>\n      <td>0</td>\n      <td>0</td>\n      <td>0</td>\n      <td>0</td>\n    </tr>\n    <tr>\n      <th>capital-loss</th>\n      <td>0</td>\n      <td>0</td>\n      <td>0</td>\n      <td>0</td>\n      <td>0</td>\n    </tr>\n    <tr>\n      <th>hours-per-week</th>\n      <td>40</td>\n      <td>13</td>\n      <td>40</td>\n      <td>40</td>\n      <td>40</td>\n    </tr>\n    <tr>\n      <th>native-country</th>\n      <td>United-States</td>\n      <td>United-States</td>\n      <td>United-States</td>\n      <td>United-States</td>\n      <td>Cuba</td>\n    </tr>\n    <tr>\n      <th>income</th>\n      <td>&lt;=50K</td>\n      <td>&lt;=50K</td>\n      <td>&lt;=50K</td>\n      <td>&lt;=50K</td>\n      <td>&lt;=50K</td>\n    </tr>\n  </tbody>\n</table>\n</div>"
     },
     "metadata": {},
     "execution_count": 4
    }
   ],
   "source": [
    "# Loading the dataset\n",
    "adult_dataFrame = spark.read.load(\"dataset/adult.csv\", format=\"csv\", header=True, inferSchema=True, delimiter=\",\")\n",
    "# Check the type of adult_dataFrame\n",
    "print(\"The type of people_df is\", type(adult_dataFrame))\n",
    "#To show the first five rows\n",
    "pd.DataFrame(adult_dataFrame.take(5), columns=adult_dataFrame.columns).transpose()"
   ]
  },
  {
   "cell_type": "code",
   "execution_count": 8,
   "metadata": {},
   "outputs": [
    {
     "output_type": "stream",
     "name": "stdout",
     "text": "+---+------+-------------+------------+------------+--------------+------+\n|age|fnlwgt|education-num|capital-gain|capital-loss|hours-per-week|income|\n+---+------+-------------+------------+------------+--------------+------+\n| 39| 77516|           13|        2174|           0|            40| <=50K|\n| 50| 83311|           13|           0|           0|            13| <=50K|\n| 38|215646|            9|           0|           0|            40| <=50K|\n| 53|234721|            7|           0|           0|            40| <=50K|\n| 28|338409|           13|           0|           0|            40| <=50K|\n+---+------+-------------+------------+------------+--------------+------+\nonly showing top 5 rows\n\n"
    }
   ],
   "source": [
    "#To get numeric features only\n",
    "adult_numeric_dataFrame = adult_dataFrame.select(\"age\",\"fnlwgt\", \"education-num\", \"capital-gain\",\"capital-loss\",\"hours-per-week\",\"income\")\n",
    "adult_numeric_dataFrame.show(5)"
   ]
  },
  {
   "cell_type": "code",
   "execution_count": 9,
   "metadata": {},
   "outputs": [
    {
     "output_type": "stream",
     "name": "stdout",
     "text": "+---+------+-------------+------------+------------+--------------+------+-----+\n|age|fnlwgt|education-num|capital-gain|capital-loss|hours-per-week|income|label|\n+---+------+-------------+------------+------------+--------------+------+-----+\n| 39| 77516|           13|        2174|           0|            40| <=50K|  0.0|\n| 50| 83311|           13|           0|           0|            13| <=50K|  0.0|\n| 38|215646|            9|           0|           0|            40| <=50K|  0.0|\n| 53|234721|            7|           0|           0|            40| <=50K|  0.0|\n| 28|338409|           13|           0|           0|            40| <=50K|  0.0|\n| 37|284582|           14|           0|           0|            40| <=50K|  0.0|\n| 49|160187|            5|           0|           0|            16| <=50K|  0.0|\n| 52|209642|            9|           0|           0|            45|  >50K|  1.0|\n| 31| 45781|           14|       14084|           0|            50|  >50K|  1.0|\n| 42|159449|           13|        5178|           0|            40|  >50K|  1.0|\n+---+------+-------------+------------+------------+--------------+------+-----+\nonly showing top 10 rows\n\n"
    }
   ],
   "source": [
    "#to create a new column called label from the income attribute\n",
    "indexer = StringIndexer(inputCol=\"income\", outputCol=\"label\") \n",
    "adult_numeric_dataFrame = indexer.fit(adult_numeric_dataFrame).transform(adult_numeric_dataFrame)\n",
    "adult_numeric_dataFrame.show(10)"
   ]
  },
  {
   "cell_type": "code",
   "execution_count": 23,
   "metadata": {},
   "outputs": [
    {
     "output_type": "stream",
     "name": "stdout",
     "text": "+---+------+-------------+------------+------------+--------------+------+-----+--------------------+--------------------+\n|age|fnlwgt|education-num|capital-gain|capital-loss|hours-per-week|income|label|     features-vector|            features|\n+---+------+-------------+------------+------------+--------------+------+-----+--------------------+--------------------+\n| 39| 77516|           13|        2174|           0|            40| <=50K|  0.0|[39.0,77516.0,13....|[39.0,77516.0,13....|\n| 50| 83311|           13|           0|           0|            13| <=50K|  0.0|[50.0,83311.0,13....|[50.0,83311.0,13....|\n| 38|215646|            9|           0|           0|            40| <=50K|  0.0|[38.0,215646.0,9....|[38.0,215646.0,9....|\n| 53|234721|            7|           0|           0|            40| <=50K|  0.0|[53.0,234721.0,7....|[53.0,234721.0,7....|\n| 28|338409|           13|           0|           0|            40| <=50K|  0.0|[28.0,338409.0,13...|[28.0,338409.0,13...|\n| 37|284582|           14|           0|           0|            40| <=50K|  0.0|[37.0,284582.0,14...|[37.0,284582.0,14...|\n| 49|160187|            5|           0|           0|            16| <=50K|  0.0|[49.0,160187.0,5....|[49.0,160187.0,5....|\n| 52|209642|            9|           0|           0|            45|  >50K|  1.0|[52.0,209642.0,9....|[52.0,209642.0,9....|\n| 31| 45781|           14|       14084|           0|            50|  >50K|  1.0|[31.0,45781.0,14....|[31.0,45781.0,14....|\n| 42|159449|           13|        5178|           0|            40|  >50K|  1.0|[42.0,159449.0,13...|[42.0,159449.0,13...|\n+---+------+-------------+------------+------------+--------------+------+-----+--------------------+--------------------+\nonly showing top 10 rows\n\n"
    }
   ],
   "source": [
    "#To Change numeric features data type into integer\n",
    "adult_numeric_dataFrame = adult_numeric_dataFrame.withColumn(\"age\", adult_numeric_dataFrame[\"age\"].cast(IntegerType()))\n",
    "\n",
    "adult_numeric_dataFrame = adult_numeric_dataFrame.withColumn(\"fnlwgt\", adult_numeric_dataFrame[\"fnlwgt\"].cast(IntegerType()))\n",
    "\n",
    "adult_numeric_dataFrame = adult_numeric_dataFrame.withColumn(\"capital-gain\", adult_numeric_dataFrame[\"capital-gain\"].cast(IntegerType()))\n",
    "\n",
    "adult_numeric_dataFrame = adult_numeric_dataFrame.withColumn(\"capital-loss\", adult_numeric_dataFrame[\"capital-loss\"].cast(IntegerType()))\n",
    "\n",
    "adult_numeric_dataFrame = adult_numeric_dataFrame.withColumn(\"education-num\", adult_numeric_dataFrame[\"education-num\"].cast(IntegerType()))\n",
    "\n",
    "adult_numeric_dataFrame = adult_numeric_dataFrame.withColumn(\"hours-per-week\", adult_numeric_dataFrame[\"hours-per-week\"].cast(IntegerType()))\n",
    "\n",
    "\n",
    "#T generate the vector assembler for numeric features, I choose the first five columns\n",
    "adult_dataFrame_vector = VectorAssembler(inputCols=adult_numeric_dataFrame.columns[:5], outputCol=\"features\")\n",
    "adult_numeric_dataFrame = adult_dataFrame_vector.transform(adult_numeric_dataFrame)\n",
    "adult_numeric_dataFrame.show(10)"
   ]
  },
  {
   "cell_type": "code",
   "execution_count": 24,
   "metadata": {},
   "outputs": [
    {
     "output_type": "stream",
     "name": "stdout",
     "text": "+-----+--------------------+\n|label|            features|\n+-----+--------------------+\n|  0.0|[17.0,19752.0,7.0...|\n|  0.0|[17.0,24090.0,9.0...|\n|  0.0|[17.0,25051.0,6.0...|\n|  0.0|[17.0,25690.0,6.0...|\n|  0.0|[17.0,27032.0,6.0...|\n+-----+--------------------+\nonly showing top 5 rows\n\n"
    }
   ],
   "source": [
    "# To get the label and features vector\n",
    "model_data = adult_numeric_dataFrame.select(\"label\", \"features\")\n",
    "#To split the model dataset into training and testing datasets, 80% for taining and 20% for testing\n",
    "training, test = model_data.randomSplit([0.8, 0.2])\n",
    "training.show(5)"
   ]
  },
  {
   "cell_type": "code",
   "execution_count": 25,
   "metadata": {},
   "outputs": [],
   "source": [
    "#To train the model on the training dataset\n",
    "#Naïve Bayes model\n",
    "model = NaiveBayes()\n",
    "model = model.fit(training)"
   ]
  },
  {
   "cell_type": "code",
   "execution_count": 26,
   "metadata": {},
   "outputs": [
    {
     "output_type": "stream",
     "name": "stdout",
     "text": "+-----+--------------------+--------------------+--------------------+----------+\n|label|            features|       rawPrediction|         probability|prediction|\n+-----+--------------------+--------------------+--------------------+----------+\n|  0.0|[17.0,32607.0,6.0...|[-246.42553839792...|[1.0,1.8225571908...|       0.0|\n|  0.0|[17.0,38611.0,7.0...|[-263.93867673266...|           [1.0,0.0]|       0.0|\n|  0.0|[17.0,47425.0,7.0...|[-275.12051390357...|           [1.0,0.0]|       0.0|\n|  0.0|[17.0,51939.0,7.0...|[-280.84717750573...|           [1.0,0.0]|       0.0|\n|  0.0|[17.0,52486.0,7.0...|[-281.54112632948...|           [1.0,0.0]|       0.0|\n|  0.0|[17.0,56986.0,8.0...|[-297.14622256018...|           [1.0,0.0]|       0.0|\n|  0.0|[17.0,65368.0,7.0...|[-297.88381142542...|           [1.0,0.0]|       0.0|\n|  0.0|[17.0,73145.0,5.0...|[-287.95767639724...|           [1.0,0.0]|       0.0|\n|  0.0|[17.0,80077.0,7.0...|[-316.54431096557...|           [1.0,0.0]|       0.0|\n|  0.0|[17.0,82041.0,7.0...|[-319.03592977697...|           [1.0,0.0]|       0.0|\n|  0.0|[17.0,89821.0,7.0...|[-328.90598800135...|           [1.0,0.0]|       0.0|\n|  0.0|[17.0,89870.0,6.0...|[-319.07195794838...|           [1.0,0.0]|       0.0|\n|  0.0|[17.0,99175.0,7.0...|[-340.77289348089...|           [1.0,0.0]|       0.0|\n|  0.0|[17.0,104232.0,6....|[-337.29223766798...|           [1.0,0.0]|       0.0|\n|  0.0|[17.0,108470.0,7....|[-352.56494890449...|           [1.0,0.0]|       0.0|\n|  0.0|[17.0,110723.0,7....|[-355.42320612551...|           [1.0,0.0]|       0.0|\n|  0.0|[17.0,110798.0,7....|[-355.51835450171...|           [1.0,0.0]|       0.0|\n|  0.0|[17.0,111332.0,7....|[-356.19581094024...|           [1.0,0.0]|       0.0|\n|  0.0|[17.0,115551.0,7....|[-361.54822426269...|           [1.0,0.0]|       0.0|\n|  0.0|[17.0,117549.0,6....|[-354.18678334588...|           [1.0,0.0]|       0.0|\n+-----+--------------------+--------------------+--------------------+----------+\nonly showing top 20 rows\n\n"
    }
   ],
   "source": [
    "#To perform testing on the test dataset\n",
    "predictions = model.transform(test)\n",
    "predictions.show()"
   ]
  },
  {
   "cell_type": "code",
   "execution_count": 27,
   "metadata": {},
   "outputs": [
    {
     "output_type": "stream",
     "name": "stdout",
     "text": "Model Accuracy = 0.7861857252494244\n"
    }
   ],
   "source": [
    "# To evaluate model and compute accuracy on the test set\n",
    "evaluate_model = MulticlassClassificationEvaluator(labelCol=\"label\", predictionCol=\"prediction\",\n",
    "                                              metricName=\"accuracy\")\n",
    "accuracy = evaluate_model.evaluate(predictions)\n",
    "print(\"Model Accuracy = \" + str(accuracy))"
   ]
  },
  {
   "cell_type": "code",
   "execution_count": 28,
   "metadata": {},
   "outputs": [],
   "source": [
    "#To train Decision Tree model:\n",
    "DT_Model = DecisionTreeClassifier()\n",
    "DT_Model = DT_Model.fit(training)"
   ]
  },
  {
   "cell_type": "code",
   "execution_count": 29,
   "metadata": {},
   "outputs": [
    {
     "output_type": "stream",
     "name": "stdout",
     "text": "+-----+--------------------+--------------+--------------------+----------+\n|label|            features| rawPrediction|         probability|prediction|\n+-----+--------------------+--------------+--------------------+----------+\n|  0.0|[17.0,32607.0,6.0...|[7964.0,423.0]|[0.9495648026708,...|       0.0|\n|  0.0|[17.0,38611.0,7.0...|[7964.0,423.0]|[0.9495648026708,...|       0.0|\n|  0.0|[17.0,47425.0,7.0...|[7964.0,423.0]|[0.9495648026708,...|       0.0|\n|  0.0|[17.0,51939.0,7.0...|[7964.0,423.0]|[0.9495648026708,...|       0.0|\n|  0.0|[17.0,52486.0,7.0...|[7964.0,423.0]|[0.9495648026708,...|       0.0|\n|  0.0|[17.0,56986.0,8.0...|[7964.0,423.0]|[0.9495648026708,...|       0.0|\n|  0.0|[17.0,65368.0,7.0...|[7964.0,423.0]|[0.9495648026708,...|       0.0|\n|  0.0|[17.0,73145.0,5.0...|[7964.0,423.0]|[0.9495648026708,...|       0.0|\n|  0.0|[17.0,80077.0,7.0...|[7964.0,423.0]|[0.9495648026708,...|       0.0|\n|  0.0|[17.0,82041.0,7.0...|[7964.0,423.0]|[0.9495648026708,...|       0.0|\n|  0.0|[17.0,89821.0,7.0...|[7964.0,423.0]|[0.9495648026708,...|       0.0|\n|  0.0|[17.0,89870.0,6.0...|[7964.0,423.0]|[0.9495648026708,...|       0.0|\n|  0.0|[17.0,99175.0,7.0...|[7964.0,423.0]|[0.9495648026708,...|       0.0|\n|  0.0|[17.0,104232.0,6....|[7964.0,423.0]|[0.9495648026708,...|       0.0|\n|  0.0|[17.0,108470.0,7....|[7964.0,423.0]|[0.9495648026708,...|       0.0|\n|  0.0|[17.0,110723.0,7....|[7964.0,423.0]|[0.9495648026708,...|       0.0|\n|  0.0|[17.0,110798.0,7....|[7964.0,423.0]|[0.9495648026708,...|       0.0|\n|  0.0|[17.0,111332.0,7....|[7964.0,423.0]|[0.9495648026708,...|       0.0|\n|  0.0|[17.0,115551.0,7....|[7964.0,423.0]|[0.9495648026708,...|       0.0|\n|  0.0|[17.0,117549.0,6....|[7964.0,423.0]|[0.9495648026708,...|       0.0|\n+-----+--------------------+--------------+--------------------+----------+\nonly showing top 20 rows\n\n"
    }
   ],
   "source": [
    "#To perform testing on the test dataset using Decision Tree Model\n",
    "DT_Model_predictions = DT_Model.transform(test)\n",
    "DT_Model_predictions.show()"
   ]
  },
  {
   "cell_type": "code",
   "execution_count": 30,
   "metadata": {},
   "outputs": [
    {
     "output_type": "stream",
     "name": "stdout",
     "text": "Model Accuracy = 0.8237912509593246\n"
    }
   ],
   "source": [
    "# To evaluate model and compute accuracy on the test set\n",
    "evaluate_DT_Model = MulticlassClassificationEvaluator(labelCol=\"label\", predictionCol=\"prediction\",\n",
    "                                              metricName=\"accuracy\")\n",
    "accuracy = evaluate_DT_Model.evaluate(DT_Model_predictions)\n",
    "print(\"Model Accuracy = \" + str(accuracy))"
   ]
  },
  {
   "cell_type": "code",
   "execution_count": 31,
   "metadata": {},
   "outputs": [],
   "source": [
    "#To train Random Forest model:\n",
    "\n",
    "RF_Model = RandomForestClassifier()\n",
    "RF_Model = RF_Model.fit(training)\n"
   ]
  },
  {
   "cell_type": "code",
   "execution_count": 32,
   "metadata": {},
   "outputs": [
    {
     "output_type": "stream",
     "name": "stdout",
     "text": "+-----+--------------------+--------------------+--------------------+----------+\n|label|            features|       rawPrediction|         probability|prediction|\n+-----+--------------------+--------------------+--------------------+----------+\n|  0.0|[17.0,32607.0,6.0...|[18.6949949765006...|[0.93474974882503...|       0.0|\n|  0.0|[17.0,38611.0,7.0...|[18.6949949765006...|[0.93474974882503...|       0.0|\n|  0.0|[17.0,47425.0,7.0...|[18.6949949765006...|[0.93474974882503...|       0.0|\n|  0.0|[17.0,51939.0,7.0...|[18.6949949765006...|[0.93474974882503...|       0.0|\n|  0.0|[17.0,52486.0,7.0...|[18.6949949765006...|[0.93474974882503...|       0.0|\n|  0.0|[17.0,56986.0,8.0...|[18.6949949765006...|[0.93474974882503...|       0.0|\n|  0.0|[17.0,65368.0,7.0...|[18.6949949765006...|[0.93474974882503...|       0.0|\n|  0.0|[17.0,73145.0,5.0...|[18.6949949765006...|[0.93474974882503...|       0.0|\n|  0.0|[17.0,80077.0,7.0...|[18.6949949765006...|[0.93474974882503...|       0.0|\n|  0.0|[17.0,82041.0,7.0...|[18.6949949765006...|[0.93474974882503...|       0.0|\n|  0.0|[17.0,89821.0,7.0...|[18.6949949765006...|[0.93474974882503...|       0.0|\n|  0.0|[17.0,89870.0,6.0...|[18.6949949765006...|[0.93474974882503...|       0.0|\n|  0.0|[17.0,99175.0,7.0...|[18.6949949765006...|[0.93474974882503...|       0.0|\n|  0.0|[17.0,104232.0,6....|[18.6949949765006...|[0.93474974882503...|       0.0|\n|  0.0|[17.0,108470.0,7....|[18.6949949765006...|[0.93474974882503...|       0.0|\n|  0.0|[17.0,110723.0,7....|[18.6949949765006...|[0.93474974882503...|       0.0|\n|  0.0|[17.0,110798.0,7....|[18.6949949765006...|[0.93474974882503...|       0.0|\n|  0.0|[17.0,111332.0,7....|[18.6949949765006...|[0.93474974882503...|       0.0|\n|  0.0|[17.0,115551.0,7....|[18.6949949765006...|[0.93474974882503...|       0.0|\n|  0.0|[17.0,117549.0,6....|[18.6949949765006...|[0.93474974882503...|       0.0|\n+-----+--------------------+--------------------+--------------------+----------+\nonly showing top 20 rows\n\n"
    }
   ],
   "source": [
    "#To perform testing on the test dataset using Random Forest Model\n",
    "RF_Model_predictions = RF_Model.transform(test)\n",
    "RF_Model_predictions.show()"
   ]
  },
  {
   "cell_type": "code",
   "execution_count": 33,
   "metadata": {},
   "outputs": [
    {
     "output_type": "stream",
     "name": "stdout",
     "text": "Model Accuracy = 0.8234842670759785\n"
    }
   ],
   "source": [
    "# To evaluate model and compute accuracy on the test set\n",
    "evaluate_RF_Model = MulticlassClassificationEvaluator(labelCol=\"label\", predictionCol=\"prediction\",\n",
    "                                              metricName=\"accuracy\")\n",
    "accuracy = evaluate_RF_Model.evaluate(RF_Model_predictions)\n",
    "print(\"Model Accuracy = \" + str(accuracy))"
   ]
  },
  {
   "cell_type": "code",
   "execution_count": null,
   "metadata": {},
   "outputs": [],
   "source": []
  }
 ],
 "metadata": {
  "language_info": {
   "codemirror_mode": {
    "name": "ipython",
    "version": 3
   },
   "file_extension": ".py",
   "mimetype": "text/x-python",
   "name": "python",
   "nbconvert_exporter": "python",
   "pygments_lexer": "ipython3",
   "version": "3.6.10-final"
  },
  "orig_nbformat": 2,
  "kernelspec": {
   "name": "python361064bitpycondacondabe5a39644e52403d882c62f3ed73be6a",
   "display_name": "Python 3.6.10 64-bit ('pyconda': conda)"
  }
 },
 "nbformat": 4,
 "nbformat_minor": 2
}